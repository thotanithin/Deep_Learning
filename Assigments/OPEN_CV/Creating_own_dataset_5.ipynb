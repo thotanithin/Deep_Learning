{
 "cells": [
  {
   "cell_type": "markdown",
   "id": "0c475789",
   "metadata": {},
   "source": [
    "## Importing Libraries"
   ]
  },
  {
   "cell_type": "code",
   "execution_count": 1,
   "id": "267af50a",
   "metadata": {},
   "outputs": [],
   "source": [
    "import numpy as np\n",
    "import pandas as pd \n",
    "import matplotlib.pyplot as plt \n",
    "import cv2\n",
    "from sklearn.model_selection import train_test_split\n",
    "from sklearn.preprocessing import StandardScaler\n",
    "from keras import Sequential\n",
    "from keras.layers import Dense,Dropout \n",
    "from keras.regularizers import  L1,L2 "
   ]
  },
  {
   "cell_type": "markdown",
   "id": "931bb089",
   "metadata": {},
   "source": [
    "## creating datapoints on the image with mouse click"
   ]
  },
  {
   "cell_type": "code",
   "execution_count": 2,
   "id": "f7a1a157",
   "metadata": {},
   "outputs": [],
   "source": [
    "dataset=[]\n",
    " \n",
    "def draw(event,x,y,flag,param):\n",
    "    if event==cv2.EVENT_FLAG_LBUTTON:\n",
    "        dataset.append((x,y,0))\n",
    "        cv2.circle(img,(x,y),4,(0,0,255),-1)\n",
    "    elif event==cv2.EVENT_FLAG_RBUTTON:\n",
    "        dataset.append((x,y,1))\n",
    "        cv2.circle(img,(x,y),4,(0,255,0),-1) "
   ]
  },
  {
   "cell_type": "code",
   "execution_count": 3,
   "id": "b136ab03",
   "metadata": {},
   "outputs": [],
   "source": [
    "img=np.full((400,400,3),255,np.uint8)\n",
    "cv2.namedWindow(\"window name\",cv2.WINDOW_NORMAL)\n",
    "cv2.setMouseCallback(\"window name\",draw)\n",
    "\n",
    "while True:\n",
    "    cv2.imshow(\"window name\",img)\n",
    "    if cv2.waitKey(1)&255==ord(\"q\"):\n",
    "        break \n",
    "cv2.destroyAllWindows() "
   ]
  },
  {
   "cell_type": "code",
   "execution_count": 4,
   "id": "b54ddf48",
   "metadata": {},
   "outputs": [
    {
     "data": {
      "text/plain": [
       "381"
      ]
     },
     "execution_count": 4,
     "metadata": {},
     "output_type": "execute_result"
    }
   ],
   "source": [
    "len(dataset) "
   ]
  },
  {
   "cell_type": "code",
   "execution_count": 5,
   "id": "e106d9d2",
   "metadata": {},
   "outputs": [],
   "source": [
    "df=pd.DataFrame(dataset)"
   ]
  },
  {
   "cell_type": "code",
   "execution_count": 6,
   "id": "1d267a61",
   "metadata": {},
   "outputs": [
    {
     "data": {
      "text/html": [
       "<div>\n",
       "<style scoped>\n",
       "    .dataframe tbody tr th:only-of-type {\n",
       "        vertical-align: middle;\n",
       "    }\n",
       "\n",
       "    .dataframe tbody tr th {\n",
       "        vertical-align: top;\n",
       "    }\n",
       "\n",
       "    .dataframe thead th {\n",
       "        text-align: right;\n",
       "    }\n",
       "</style>\n",
       "<table border=\"1\" class=\"dataframe\">\n",
       "  <thead>\n",
       "    <tr style=\"text-align: right;\">\n",
       "      <th></th>\n",
       "      <th>0</th>\n",
       "      <th>1</th>\n",
       "      <th>2</th>\n",
       "    </tr>\n",
       "  </thead>\n",
       "  <tbody>\n",
       "    <tr>\n",
       "      <th>0</th>\n",
       "      <td>93</td>\n",
       "      <td>158</td>\n",
       "      <td>0</td>\n",
       "    </tr>\n",
       "    <tr>\n",
       "      <th>1</th>\n",
       "      <td>147</td>\n",
       "      <td>108</td>\n",
       "      <td>0</td>\n",
       "    </tr>\n",
       "    <tr>\n",
       "      <th>2</th>\n",
       "      <td>122</td>\n",
       "      <td>108</td>\n",
       "      <td>0</td>\n",
       "    </tr>\n",
       "    <tr>\n",
       "      <th>3</th>\n",
       "      <td>105</td>\n",
       "      <td>91</td>\n",
       "      <td>0</td>\n",
       "    </tr>\n",
       "    <tr>\n",
       "      <th>4</th>\n",
       "      <td>99</td>\n",
       "      <td>88</td>\n",
       "      <td>0</td>\n",
       "    </tr>\n",
       "    <tr>\n",
       "      <th>...</th>\n",
       "      <td>...</td>\n",
       "      <td>...</td>\n",
       "      <td>...</td>\n",
       "    </tr>\n",
       "    <tr>\n",
       "      <th>376</th>\n",
       "      <td>210</td>\n",
       "      <td>146</td>\n",
       "      <td>1</td>\n",
       "    </tr>\n",
       "    <tr>\n",
       "      <th>377</th>\n",
       "      <td>195</td>\n",
       "      <td>202</td>\n",
       "      <td>1</td>\n",
       "    </tr>\n",
       "    <tr>\n",
       "      <th>378</th>\n",
       "      <td>251</td>\n",
       "      <td>155</td>\n",
       "      <td>1</td>\n",
       "    </tr>\n",
       "    <tr>\n",
       "      <th>379</th>\n",
       "      <td>284</td>\n",
       "      <td>215</td>\n",
       "      <td>1</td>\n",
       "    </tr>\n",
       "    <tr>\n",
       "      <th>380</th>\n",
       "      <td>293</td>\n",
       "      <td>209</td>\n",
       "      <td>1</td>\n",
       "    </tr>\n",
       "  </tbody>\n",
       "</table>\n",
       "<p>381 rows × 3 columns</p>\n",
       "</div>"
      ],
      "text/plain": [
       "       0    1  2\n",
       "0     93  158  0\n",
       "1    147  108  0\n",
       "2    122  108  0\n",
       "3    105   91  0\n",
       "4     99   88  0\n",
       "..   ...  ... ..\n",
       "376  210  146  1\n",
       "377  195  202  1\n",
       "378  251  155  1\n",
       "379  284  215  1\n",
       "380  293  209  1\n",
       "\n",
       "[381 rows x 3 columns]"
      ]
     },
     "execution_count": 6,
     "metadata": {},
     "output_type": "execute_result"
    }
   ],
   "source": [
    "df "
   ]
  },
  {
   "cell_type": "code",
   "execution_count": 7,
   "id": "a24d65df",
   "metadata": {},
   "outputs": [
    {
     "data": {
      "text/plain": [
       "1    200\n",
       "0    181\n",
       "Name: 2, dtype: int64"
      ]
     },
     "execution_count": 7,
     "metadata": {},
     "output_type": "execute_result"
    }
   ],
   "source": [
    "df.iloc[:,2].value_counts()"
   ]
  },
  {
   "cell_type": "markdown",
   "id": "fc499fc8",
   "metadata": {},
   "source": [
    "## saving the data to a csv file"
   ]
  },
  {
   "cell_type": "code",
   "execution_count": 8,
   "id": "e2041d09",
   "metadata": {},
   "outputs": [],
   "source": [
    "df.to_csv(\"data_points.csv\",index=False)"
   ]
  },
  {
   "cell_type": "markdown",
   "id": "6ee3d19d",
   "metadata": {},
   "source": [
    "## Import the csv file "
   ]
  },
  {
   "cell_type": "code",
   "execution_count": 9,
   "id": "3ef54108",
   "metadata": {},
   "outputs": [
    {
     "data": {
      "text/html": [
       "<div>\n",
       "<style scoped>\n",
       "    .dataframe tbody tr th:only-of-type {\n",
       "        vertical-align: middle;\n",
       "    }\n",
       "\n",
       "    .dataframe tbody tr th {\n",
       "        vertical-align: top;\n",
       "    }\n",
       "\n",
       "    .dataframe thead th {\n",
       "        text-align: right;\n",
       "    }\n",
       "</style>\n",
       "<table border=\"1\" class=\"dataframe\">\n",
       "  <thead>\n",
       "    <tr style=\"text-align: right;\">\n",
       "      <th></th>\n",
       "      <th>0</th>\n",
       "      <th>1</th>\n",
       "      <th>2</th>\n",
       "    </tr>\n",
       "  </thead>\n",
       "  <tbody>\n",
       "    <tr>\n",
       "      <th>0</th>\n",
       "      <td>93</td>\n",
       "      <td>158</td>\n",
       "      <td>0</td>\n",
       "    </tr>\n",
       "    <tr>\n",
       "      <th>1</th>\n",
       "      <td>147</td>\n",
       "      <td>108</td>\n",
       "      <td>0</td>\n",
       "    </tr>\n",
       "    <tr>\n",
       "      <th>2</th>\n",
       "      <td>122</td>\n",
       "      <td>108</td>\n",
       "      <td>0</td>\n",
       "    </tr>\n",
       "    <tr>\n",
       "      <th>3</th>\n",
       "      <td>105</td>\n",
       "      <td>91</td>\n",
       "      <td>0</td>\n",
       "    </tr>\n",
       "    <tr>\n",
       "      <th>4</th>\n",
       "      <td>99</td>\n",
       "      <td>88</td>\n",
       "      <td>0</td>\n",
       "    </tr>\n",
       "  </tbody>\n",
       "</table>\n",
       "</div>"
      ],
      "text/plain": [
       "     0    1  2\n",
       "0   93  158  0\n",
       "1  147  108  0\n",
       "2  122  108  0\n",
       "3  105   91  0\n",
       "4   99   88  0"
      ]
     },
     "execution_count": 9,
     "metadata": {},
     "output_type": "execute_result"
    }
   ],
   "source": [
    "df=pd.read_csv(\"data_points.csv\")\n",
    "df.head() "
   ]
  },
  {
   "cell_type": "markdown",
   "id": "96c3263f",
   "metadata": {},
   "source": [
    "## splitting into input and output features"
   ]
  },
  {
   "cell_type": "code",
   "execution_count": 10,
   "id": "0ce34486",
   "metadata": {},
   "outputs": [],
   "source": [
    "x=df.iloc[:,0:2]\n",
    "y=df.iloc[:,2].astype(int)"
   ]
  },
  {
   "cell_type": "markdown",
   "id": "4b254951",
   "metadata": {},
   "source": [
    "## splitting the data into train and test "
   ]
  },
  {
   "cell_type": "code",
   "execution_count": 11,
   "id": "b3a2660a",
   "metadata": {},
   "outputs": [],
   "source": [
    "x_train,x_test,y_train,y_test=train_test_split(x,y,test_size=0.1) "
   ]
  },
  {
   "cell_type": "markdown",
   "id": "fed00996",
   "metadata": {},
   "source": [
    "## Standardizing the input features"
   ]
  },
  {
   "cell_type": "code",
   "execution_count": 12,
   "id": "94ca3937",
   "metadata": {},
   "outputs": [],
   "source": [
    "std=StandardScaler()\n",
    "X_train=std.fit_transform(x_train)\n",
    "X_test=std.transform(x_test) "
   ]
  },
  {
   "cell_type": "markdown",
   "id": "cd9da9ea",
   "metadata": {},
   "source": [
    "## creating the logical structure"
   ]
  },
  {
   "cell_type": "code",
   "execution_count": 13,
   "id": "8aa1357b",
   "metadata": {},
   "outputs": [],
   "source": [
    "model=Sequential()\n",
    "model.add(Dense(8,activation=\"relu\",input_dim=2)) \n",
    "model.add(Dense(6,activation=\"relu\"))\n",
    "model.add(Dense(1,activation=\"sigmoid\"))"
   ]
  },
  {
   "cell_type": "code",
   "execution_count": 14,
   "id": "674ef058",
   "metadata": {},
   "outputs": [
    {
     "name": "stdout",
     "output_type": "stream",
     "text": [
      "Model: \"sequential\"\n",
      "_________________________________________________________________\n",
      " Layer (type)                Output Shape              Param #   \n",
      "=================================================================\n",
      " dense (Dense)               (None, 8)                 24        \n",
      "                                                                 \n",
      " dense_1 (Dense)             (None, 6)                 54        \n",
      "                                                                 \n",
      " dense_2 (Dense)             (None, 1)                 7         \n",
      "                                                                 \n",
      "=================================================================\n",
      "Total params: 85 (340.00 Byte)\n",
      "Trainable params: 85 (340.00 Byte)\n",
      "Non-trainable params: 0 (0.00 Byte)\n",
      "_________________________________________________________________\n"
     ]
    }
   ],
   "source": [
    "model.summary()  "
   ]
  },
  {
   "cell_type": "markdown",
   "id": "1f3f1311",
   "metadata": {},
   "source": [
    "## compiling the model"
   ]
  },
  {
   "cell_type": "code",
   "execution_count": 15,
   "id": "709dcd6c",
   "metadata": {},
   "outputs": [],
   "source": [
    "from keras.optimizers import SGD "
   ]
  },
  {
   "cell_type": "code",
   "execution_count": 16,
   "id": "1f5406e3",
   "metadata": {
    "scrolled": false
   },
   "outputs": [
    {
     "name": "stdout",
     "output_type": "stream",
     "text": [
      "Epoch 1/100\n",
      "31/31 [==============================] - 1s 9ms/step - loss: 0.7643 - accuracy: 0.2345 - val_loss: 0.7269 - val_accuracy: 0.3143\n",
      "Epoch 2/100\n",
      "31/31 [==============================] - 0s 3ms/step - loss: 0.7089 - accuracy: 0.4007 - val_loss: 0.6829 - val_accuracy: 0.5143\n",
      "Epoch 3/100\n",
      "31/31 [==============================] - 0s 4ms/step - loss: 0.6650 - accuracy: 0.6482 - val_loss: 0.6444 - val_accuracy: 0.7429\n",
      "Epoch 4/100\n",
      "31/31 [==============================] - 0s 4ms/step - loss: 0.6275 - accuracy: 0.7785 - val_loss: 0.6095 - val_accuracy: 0.7429\n",
      "Epoch 5/100\n",
      "31/31 [==============================] - 0s 4ms/step - loss: 0.5935 - accuracy: 0.8925 - val_loss: 0.5767 - val_accuracy: 0.9714\n",
      "Epoch 6/100\n",
      "31/31 [==============================] - 0s 4ms/step - loss: 0.5600 - accuracy: 0.9739 - val_loss: 0.5435 - val_accuracy: 0.9714\n",
      "Epoch 7/100\n",
      "31/31 [==============================] - 0s 4ms/step - loss: 0.5254 - accuracy: 0.9902 - val_loss: 0.5079 - val_accuracy: 0.9714\n",
      "Epoch 8/100\n",
      "31/31 [==============================] - 0s 4ms/step - loss: 0.4888 - accuracy: 0.9935 - val_loss: 0.4702 - val_accuracy: 1.0000\n",
      "Epoch 9/100\n",
      "31/31 [==============================] - 0s 4ms/step - loss: 0.4503 - accuracy: 1.0000 - val_loss: 0.4298 - val_accuracy: 1.0000\n",
      "Epoch 10/100\n",
      "31/31 [==============================] - 0s 4ms/step - loss: 0.4099 - accuracy: 0.9967 - val_loss: 0.3861 - val_accuracy: 1.0000\n",
      "Epoch 11/100\n",
      "31/31 [==============================] - 0s 4ms/step - loss: 0.3678 - accuracy: 0.9967 - val_loss: 0.3412 - val_accuracy: 1.0000\n",
      "Epoch 12/100\n",
      "31/31 [==============================] - 0s 4ms/step - loss: 0.3262 - accuracy: 0.9967 - val_loss: 0.2978 - val_accuracy: 1.0000\n",
      "Epoch 13/100\n",
      "31/31 [==============================] - 0s 4ms/step - loss: 0.2869 - accuracy: 0.9967 - val_loss: 0.2578 - val_accuracy: 1.0000\n",
      "Epoch 14/100\n",
      "31/31 [==============================] - 0s 4ms/step - loss: 0.2509 - accuracy: 0.9967 - val_loss: 0.2220 - val_accuracy: 1.0000\n",
      "Epoch 15/100\n",
      "31/31 [==============================] - 0s 4ms/step - loss: 0.2185 - accuracy: 0.9967 - val_loss: 0.1901 - val_accuracy: 1.0000\n",
      "Epoch 16/100\n",
      "31/31 [==============================] - 0s 3ms/step - loss: 0.1900 - accuracy: 0.9967 - val_loss: 0.1617 - val_accuracy: 1.0000\n",
      "Epoch 17/100\n",
      "31/31 [==============================] - 0s 3ms/step - loss: 0.1653 - accuracy: 0.9967 - val_loss: 0.1377 - val_accuracy: 1.0000\n",
      "Epoch 18/100\n",
      "31/31 [==============================] - 0s 3ms/step - loss: 0.1441 - accuracy: 0.9967 - val_loss: 0.1176 - val_accuracy: 1.0000\n",
      "Epoch 19/100\n",
      "31/31 [==============================] - 0s 4ms/step - loss: 0.1262 - accuracy: 0.9967 - val_loss: 0.1007 - val_accuracy: 1.0000\n",
      "Epoch 20/100\n",
      "31/31 [==============================] - 0s 4ms/step - loss: 0.1110 - accuracy: 0.9967 - val_loss: 0.0866 - val_accuracy: 1.0000\n",
      "Epoch 21/100\n",
      "31/31 [==============================] - 0s 4ms/step - loss: 0.0981 - accuracy: 0.9967 - val_loss: 0.0749 - val_accuracy: 1.0000\n",
      "Epoch 22/100\n",
      "31/31 [==============================] - 0s 4ms/step - loss: 0.0874 - accuracy: 0.9967 - val_loss: 0.0654 - val_accuracy: 1.0000\n",
      "Epoch 23/100\n",
      "31/31 [==============================] - 0s 3ms/step - loss: 0.0784 - accuracy: 0.9967 - val_loss: 0.0575 - val_accuracy: 1.0000\n",
      "Epoch 24/100\n",
      "31/31 [==============================] - 0s 4ms/step - loss: 0.0708 - accuracy: 0.9967 - val_loss: 0.0509 - val_accuracy: 1.0000\n",
      "Epoch 25/100\n",
      "31/31 [==============================] - 0s 4ms/step - loss: 0.0644 - accuracy: 0.9967 - val_loss: 0.0454 - val_accuracy: 1.0000\n",
      "Epoch 26/100\n",
      "31/31 [==============================] - 0s 4ms/step - loss: 0.0589 - accuracy: 0.9967 - val_loss: 0.0407 - val_accuracy: 1.0000\n",
      "Epoch 27/100\n",
      "31/31 [==============================] - 0s 4ms/step - loss: 0.0542 - accuracy: 0.9967 - val_loss: 0.0368 - val_accuracy: 1.0000\n",
      "Epoch 28/100\n",
      "31/31 [==============================] - 0s 4ms/step - loss: 0.0501 - accuracy: 0.9967 - val_loss: 0.0334 - val_accuracy: 1.0000\n",
      "Epoch 29/100\n",
      "31/31 [==============================] - 0s 4ms/step - loss: 0.0465 - accuracy: 0.9967 - val_loss: 0.0304 - val_accuracy: 1.0000\n",
      "Epoch 30/100\n",
      "31/31 [==============================] - 0s 3ms/step - loss: 0.0434 - accuracy: 0.9967 - val_loss: 0.0279 - val_accuracy: 1.0000\n",
      "Epoch 31/100\n",
      "31/31 [==============================] - 0s 4ms/step - loss: 0.0407 - accuracy: 0.9967 - val_loss: 0.0257 - val_accuracy: 1.0000\n",
      "Epoch 32/100\n",
      "31/31 [==============================] - 0s 4ms/step - loss: 0.0383 - accuracy: 0.9967 - val_loss: 0.0237 - val_accuracy: 1.0000\n",
      "Epoch 33/100\n",
      "31/31 [==============================] - 0s 4ms/step - loss: 0.0361 - accuracy: 0.9967 - val_loss: 0.0220 - val_accuracy: 1.0000\n",
      "Epoch 34/100\n",
      "31/31 [==============================] - 0s 4ms/step - loss: 0.0341 - accuracy: 0.9967 - val_loss: 0.0205 - val_accuracy: 1.0000\n",
      "Epoch 35/100\n",
      "31/31 [==============================] - 0s 4ms/step - loss: 0.0324 - accuracy: 0.9967 - val_loss: 0.0191 - val_accuracy: 1.0000\n",
      "Epoch 36/100\n",
      "31/31 [==============================] - 0s 4ms/step - loss: 0.0308 - accuracy: 0.9967 - val_loss: 0.0179 - val_accuracy: 1.0000\n",
      "Epoch 37/100\n",
      "31/31 [==============================] - 0s 4ms/step - loss: 0.0294 - accuracy: 0.9967 - val_loss: 0.0168 - val_accuracy: 1.0000\n",
      "Epoch 38/100\n",
      "31/31 [==============================] - 0s 3ms/step - loss: 0.0281 - accuracy: 0.9967 - val_loss: 0.0158 - val_accuracy: 1.0000\n",
      "Epoch 39/100\n",
      "31/31 [==============================] - 0s 3ms/step - loss: 0.0269 - accuracy: 0.9967 - val_loss: 0.0149 - val_accuracy: 1.0000\n",
      "Epoch 40/100\n",
      "31/31 [==============================] - 0s 4ms/step - loss: 0.0258 - accuracy: 0.9967 - val_loss: 0.0140 - val_accuracy: 1.0000\n",
      "Epoch 41/100\n",
      "31/31 [==============================] - 0s 4ms/step - loss: 0.0248 - accuracy: 0.9967 - val_loss: 0.0133 - val_accuracy: 1.0000\n",
      "Epoch 42/100\n",
      "31/31 [==============================] - 0s 4ms/step - loss: 0.0238 - accuracy: 0.9967 - val_loss: 0.0126 - val_accuracy: 1.0000\n",
      "Epoch 43/100\n",
      "31/31 [==============================] - 0s 4ms/step - loss: 0.0230 - accuracy: 0.9967 - val_loss: 0.0119 - val_accuracy: 1.0000\n",
      "Epoch 44/100\n",
      "31/31 [==============================] - 0s 4ms/step - loss: 0.0221 - accuracy: 0.9967 - val_loss: 0.0114 - val_accuracy: 1.0000\n",
      "Epoch 45/100\n",
      "31/31 [==============================] - 0s 4ms/step - loss: 0.0214 - accuracy: 0.9967 - val_loss: 0.0108 - val_accuracy: 1.0000\n",
      "Epoch 46/100\n",
      "31/31 [==============================] - 0s 4ms/step - loss: 0.0207 - accuracy: 0.9967 - val_loss: 0.0103 - val_accuracy: 1.0000\n",
      "Epoch 47/100\n",
      "31/31 [==============================] - 0s 5ms/step - loss: 0.0200 - accuracy: 0.9967 - val_loss: 0.0099 - val_accuracy: 1.0000\n",
      "Epoch 48/100\n",
      "31/31 [==============================] - 0s 4ms/step - loss: 0.0194 - accuracy: 0.9967 - val_loss: 0.0094 - val_accuracy: 1.0000\n",
      "Epoch 49/100\n",
      "31/31 [==============================] - 0s 4ms/step - loss: 0.0188 - accuracy: 0.9967 - val_loss: 0.0090 - val_accuracy: 1.0000\n",
      "Epoch 50/100\n",
      "31/31 [==============================] - 0s 4ms/step - loss: 0.0183 - accuracy: 0.9967 - val_loss: 0.0087 - val_accuracy: 1.0000\n",
      "Epoch 51/100\n",
      "31/31 [==============================] - 0s 3ms/step - loss: 0.0178 - accuracy: 0.9967 - val_loss: 0.0083 - val_accuracy: 1.0000\n",
      "Epoch 52/100\n",
      "31/31 [==============================] - 0s 3ms/step - loss: 0.0173 - accuracy: 0.9967 - val_loss: 0.0080 - val_accuracy: 1.0000\n",
      "Epoch 53/100\n",
      "31/31 [==============================] - 0s 3ms/step - loss: 0.0168 - accuracy: 1.0000 - val_loss: 0.0077 - val_accuracy: 1.0000\n",
      "Epoch 54/100\n",
      "31/31 [==============================] - 0s 3ms/step - loss: 0.0164 - accuracy: 1.0000 - val_loss: 0.0074 - val_accuracy: 1.0000\n",
      "Epoch 55/100\n",
      "31/31 [==============================] - 0s 4ms/step - loss: 0.0160 - accuracy: 1.0000 - val_loss: 0.0071 - val_accuracy: 1.0000\n",
      "Epoch 56/100\n",
      "31/31 [==============================] - 0s 4ms/step - loss: 0.0156 - accuracy: 1.0000 - val_loss: 0.0069 - val_accuracy: 1.0000\n",
      "Epoch 57/100\n",
      "31/31 [==============================] - 0s 4ms/step - loss: 0.0152 - accuracy: 1.0000 - val_loss: 0.0066 - val_accuracy: 1.0000\n",
      "Epoch 58/100\n",
      "31/31 [==============================] - 0s 4ms/step - loss: 0.0149 - accuracy: 1.0000 - val_loss: 0.0064 - val_accuracy: 1.0000\n"
     ]
    },
    {
     "name": "stdout",
     "output_type": "stream",
     "text": [
      "Epoch 59/100\n",
      "31/31 [==============================] - 0s 4ms/step - loss: 0.0145 - accuracy: 1.0000 - val_loss: 0.0062 - val_accuracy: 1.0000\n",
      "Epoch 60/100\n",
      "31/31 [==============================] - 0s 4ms/step - loss: 0.0142 - accuracy: 1.0000 - val_loss: 0.0060 - val_accuracy: 1.0000\n",
      "Epoch 61/100\n",
      "31/31 [==============================] - 0s 4ms/step - loss: 0.0139 - accuracy: 1.0000 - val_loss: 0.0058 - val_accuracy: 1.0000\n",
      "Epoch 62/100\n",
      "31/31 [==============================] - 0s 4ms/step - loss: 0.0136 - accuracy: 1.0000 - val_loss: 0.0056 - val_accuracy: 1.0000\n",
      "Epoch 63/100\n",
      "31/31 [==============================] - 0s 3ms/step - loss: 0.0133 - accuracy: 1.0000 - val_loss: 0.0055 - val_accuracy: 1.0000\n",
      "Epoch 64/100\n",
      "31/31 [==============================] - 0s 3ms/step - loss: 0.0131 - accuracy: 1.0000 - val_loss: 0.0053 - val_accuracy: 1.0000\n",
      "Epoch 65/100\n",
      "31/31 [==============================] - 0s 3ms/step - loss: 0.0128 - accuracy: 1.0000 - val_loss: 0.0052 - val_accuracy: 1.0000\n",
      "Epoch 66/100\n",
      "31/31 [==============================] - 0s 3ms/step - loss: 0.0126 - accuracy: 1.0000 - val_loss: 0.0050 - val_accuracy: 1.0000\n",
      "Epoch 67/100\n",
      "31/31 [==============================] - 0s 3ms/step - loss: 0.0123 - accuracy: 1.0000 - val_loss: 0.0049 - val_accuracy: 1.0000\n",
      "Epoch 68/100\n",
      "31/31 [==============================] - 0s 3ms/step - loss: 0.0121 - accuracy: 1.0000 - val_loss: 0.0047 - val_accuracy: 1.0000\n",
      "Epoch 69/100\n",
      "31/31 [==============================] - 0s 3ms/step - loss: 0.0119 - accuracy: 1.0000 - val_loss: 0.0046 - val_accuracy: 1.0000\n",
      "Epoch 70/100\n",
      "31/31 [==============================] - 0s 4ms/step - loss: 0.0117 - accuracy: 1.0000 - val_loss: 0.0045 - val_accuracy: 1.0000\n",
      "Epoch 71/100\n",
      "31/31 [==============================] - 0s 4ms/step - loss: 0.0115 - accuracy: 1.0000 - val_loss: 0.0044 - val_accuracy: 1.0000\n",
      "Epoch 72/100\n",
      "31/31 [==============================] - 0s 4ms/step - loss: 0.0113 - accuracy: 1.0000 - val_loss: 0.0043 - val_accuracy: 1.0000\n",
      "Epoch 73/100\n",
      "31/31 [==============================] - 0s 4ms/step - loss: 0.0111 - accuracy: 1.0000 - val_loss: 0.0042 - val_accuracy: 1.0000\n",
      "Epoch 74/100\n",
      "31/31 [==============================] - 0s 4ms/step - loss: 0.0109 - accuracy: 1.0000 - val_loss: 0.0040 - val_accuracy: 1.0000\n",
      "Epoch 75/100\n",
      "31/31 [==============================] - 0s 4ms/step - loss: 0.0108 - accuracy: 1.0000 - val_loss: 0.0040 - val_accuracy: 1.0000\n",
      "Epoch 76/100\n",
      "31/31 [==============================] - 0s 4ms/step - loss: 0.0106 - accuracy: 1.0000 - val_loss: 0.0039 - val_accuracy: 1.0000\n",
      "Epoch 77/100\n",
      "31/31 [==============================] - 0s 4ms/step - loss: 0.0104 - accuracy: 1.0000 - val_loss: 0.0038 - val_accuracy: 1.0000\n",
      "Epoch 78/100\n",
      "31/31 [==============================] - 0s 4ms/step - loss: 0.0103 - accuracy: 1.0000 - val_loss: 0.0037 - val_accuracy: 1.0000\n",
      "Epoch 79/100\n",
      "31/31 [==============================] - 0s 4ms/step - loss: 0.0101 - accuracy: 1.0000 - val_loss: 0.0036 - val_accuracy: 1.0000\n",
      "Epoch 80/100\n",
      "31/31 [==============================] - 0s 4ms/step - loss: 0.0100 - accuracy: 1.0000 - val_loss: 0.0035 - val_accuracy: 1.0000\n",
      "Epoch 81/100\n",
      "31/31 [==============================] - 0s 4ms/step - loss: 0.0098 - accuracy: 1.0000 - val_loss: 0.0034 - val_accuracy: 1.0000\n",
      "Epoch 82/100\n",
      "31/31 [==============================] - 0s 3ms/step - loss: 0.0097 - accuracy: 1.0000 - val_loss: 0.0034 - val_accuracy: 1.0000\n",
      "Epoch 83/100\n",
      "31/31 [==============================] - 0s 3ms/step - loss: 0.0096 - accuracy: 1.0000 - val_loss: 0.0033 - val_accuracy: 1.0000\n",
      "Epoch 84/100\n",
      "31/31 [==============================] - 0s 4ms/step - loss: 0.0094 - accuracy: 1.0000 - val_loss: 0.0032 - val_accuracy: 1.0000\n",
      "Epoch 85/100\n",
      "31/31 [==============================] - 0s 4ms/step - loss: 0.0093 - accuracy: 1.0000 - val_loss: 0.0032 - val_accuracy: 1.0000\n",
      "Epoch 86/100\n",
      "31/31 [==============================] - 0s 4ms/step - loss: 0.0092 - accuracy: 1.0000 - val_loss: 0.0031 - val_accuracy: 1.0000\n",
      "Epoch 87/100\n",
      "31/31 [==============================] - 0s 4ms/step - loss: 0.0091 - accuracy: 1.0000 - val_loss: 0.0030 - val_accuracy: 1.0000\n",
      "Epoch 88/100\n",
      "31/31 [==============================] - 0s 4ms/step - loss: 0.0090 - accuracy: 1.0000 - val_loss: 0.0030 - val_accuracy: 1.0000\n",
      "Epoch 89/100\n",
      "31/31 [==============================] - 0s 4ms/step - loss: 0.0088 - accuracy: 1.0000 - val_loss: 0.0029 - val_accuracy: 1.0000\n",
      "Epoch 90/100\n",
      "31/31 [==============================] - 0s 4ms/step - loss: 0.0087 - accuracy: 1.0000 - val_loss: 0.0029 - val_accuracy: 1.0000\n",
      "Epoch 91/100\n",
      "31/31 [==============================] - 0s 4ms/step - loss: 0.0086 - accuracy: 1.0000 - val_loss: 0.0028 - val_accuracy: 1.0000\n",
      "Epoch 92/100\n",
      "31/31 [==============================] - 0s 4ms/step - loss: 0.0085 - accuracy: 1.0000 - val_loss: 0.0028 - val_accuracy: 1.0000\n",
      "Epoch 93/100\n",
      "31/31 [==============================] - 0s 4ms/step - loss: 0.0084 - accuracy: 1.0000 - val_loss: 0.0027 - val_accuracy: 1.0000\n",
      "Epoch 94/100\n",
      "31/31 [==============================] - 0s 4ms/step - loss: 0.0083 - accuracy: 1.0000 - val_loss: 0.0027 - val_accuracy: 1.0000\n",
      "Epoch 95/100\n",
      "31/31 [==============================] - 0s 4ms/step - loss: 0.0082 - accuracy: 1.0000 - val_loss: 0.0026 - val_accuracy: 1.0000\n",
      "Epoch 96/100\n",
      "31/31 [==============================] - 0s 4ms/step - loss: 0.0081 - accuracy: 1.0000 - val_loss: 0.0026 - val_accuracy: 1.0000\n",
      "Epoch 97/100\n",
      "31/31 [==============================] - 0s 4ms/step - loss: 0.0080 - accuracy: 1.0000 - val_loss: 0.0025 - val_accuracy: 1.0000\n",
      "Epoch 98/100\n",
      "31/31 [==============================] - 0s 4ms/step - loss: 0.0079 - accuracy: 1.0000 - val_loss: 0.0025 - val_accuracy: 1.0000\n",
      "Epoch 99/100\n",
      "31/31 [==============================] - 0s 4ms/step - loss: 0.0079 - accuracy: 1.0000 - val_loss: 0.0024 - val_accuracy: 1.0000\n",
      "Epoch 100/100\n",
      "31/31 [==============================] - 0s 3ms/step - loss: 0.0078 - accuracy: 1.0000 - val_loss: 0.0024 - val_accuracy: 1.0000\n"
     ]
    }
   ],
   "source": [
    "model.compile(loss=\"binary_crossentropy\",optimizer=SGD(0.01),metrics=[\"accuracy\"])\n",
    "history=model.fit(X_train,y_train,batch_size=10,epochs=100,validation_split=0.1)"
   ]
  },
  {
   "cell_type": "code",
   "execution_count": 17,
   "id": "d4bd8eee",
   "metadata": {},
   "outputs": [
    {
     "data": {
      "text/plain": [
       "<matplotlib.legend.Legend at 0x1c8f7b1dcc0>"
      ]
     },
     "execution_count": 17,
     "metadata": {},
     "output_type": "execute_result"
    },
    {
     "data": {
      "image/png": "[encoded data removed]",
      "text/plain": [
       "<Figure size 640x480 with 1 Axes>"
      ]
     },
     "metadata": {},
     "output_type": "display_data"
    }
   ],
   "source": [
    "plt.plot(range(1,101),history.history[\"loss\"],label=\"train_loss\")\n",
    "plt.plot(range(1,101),history.history[\"val_loss\"],label=\"test_loss\") \n",
    "plt.legend()  "
   ]
  },
  {
   "cell_type": "markdown",
   "id": "9d23eeaf",
   "metadata": {},
   "source": [
    "## make predictions using the model"
   ]
  },
  {
   "cell_type": "code",
   "execution_count": 18,
   "id": "c6af9746",
   "metadata": {},
   "outputs": [
    {
     "name": "stdout",
     "output_type": "stream",
     "text": [
      "2/2 [==============================] - 0s 4ms/step\n"
     ]
    },
    {
     "data": {
      "text/plain": [
       "array([[9.9970138e-01],\n",
       "       [9.9414080e-01],\n",
       "       [9.9989146e-01],\n",
       "       [2.7319605e-03],\n",
       "       [9.9771285e-01],\n",
       "       [3.4563683e-02],\n",
       "       [6.7912764e-04],\n",
       "       [3.8774495e-03],\n",
       "       [9.9953789e-01],\n",
       "       [5.3173453e-03],\n",
       "       [9.6214324e-01],\n",
       "       [8.2961870e-03],\n",
       "       [9.9787098e-01],\n",
       "       [9.9939072e-01],\n",
       "       [1.0977978e-02],\n",
       "       [9.9974716e-01],\n",
       "       [1.0090649e-02],\n",
       "       [9.9770856e-01],\n",
       "       [7.6775891e-03],\n",
       "       [2.5848905e-03],\n",
       "       [2.4586413e-03],\n",
       "       [2.5230173e-03],\n",
       "       [3.5411301e-03],\n",
       "       [9.9976623e-01],\n",
       "       [9.9786490e-01],\n",
       "       [4.0883417e-03],\n",
       "       [9.9967283e-01],\n",
       "       [1.0245558e-01],\n",
       "       [1.0126319e-03],\n",
       "       [9.9924803e-01],\n",
       "       [6.2947180e-03],\n",
       "       [7.9028336e-03],\n",
       "       [3.6413033e-04],\n",
       "       [9.9969935e-01],\n",
       "       [9.9965173e-01],\n",
       "       [9.9677396e-01],\n",
       "       [1.6186252e-03],\n",
       "       [9.9971610e-01],\n",
       "       [1.3761004e-02]], dtype=float32)"
      ]
     },
     "execution_count": 18,
     "metadata": {},
     "output_type": "execute_result"
    }
   ],
   "source": [
    "predicted=model.predict(X_test)\n",
    "predicted "
   ]
  },
  {
   "cell_type": "code",
   "execution_count": 19,
   "id": "2c6d5bc1",
   "metadata": {},
   "outputs": [
    {
     "data": {
      "text/plain": [
       "array([[1],\n",
       "       [1],\n",
       "       [1],\n",
       "       [0],\n",
       "       [1],\n",
       "       [0],\n",
       "       [0],\n",
       "       [0],\n",
       "       [1],\n",
       "       [0],\n",
       "       [1],\n",
       "       [0],\n",
       "       [1],\n",
       "       [1],\n",
       "       [0],\n",
       "       [1],\n",
       "       [0],\n",
       "       [1],\n",
       "       [0],\n",
       "       [0],\n",
       "       [0],\n",
       "       [0],\n",
       "       [0],\n",
       "       [1],\n",
       "       [1],\n",
       "       [0],\n",
       "       [1],\n",
       "       [0],\n",
       "       [0],\n",
       "       [1],\n",
       "       [0],\n",
       "       [0],\n",
       "       [0],\n",
       "       [1],\n",
       "       [1],\n",
       "       [1],\n",
       "       [0],\n",
       "       [1],\n",
       "       [0]])"
      ]
     },
     "execution_count": 19,
     "metadata": {},
     "output_type": "execute_result"
    }
   ],
   "source": [
    "predicted=np.where(predicted>0.5,1,0)\n",
    "predicted "
   ]
  },
  {
   "cell_type": "markdown",
   "id": "6d250032",
   "metadata": {},
   "source": [
    "## evaluating the model"
   ]
  },
  {
   "cell_type": "code",
   "execution_count": 20,
   "id": "6cdd36ea",
   "metadata": {},
   "outputs": [
    {
     "name": "stdout",
     "output_type": "stream",
     "text": [
      "1.0\n"
     ]
    },
    {
     "data": {
      "image/png": "[encoded data removed]",
      "text/plain": [
       "<Figure size 640x480 with 2 Axes>"
      ]
     },
     "metadata": {},
     "output_type": "display_data"
    }
   ],
   "source": [
    "from sklearn.metrics import accuracy_score,confusion_matrix,ConfusionMatrixDisplay\n",
    "print(accuracy_score(y_test,predicted))\n",
    "cm=confusion_matrix(y_test,predicted)\n",
    "va=ConfusionMatrixDisplay(cm)\n",
    "va.plot() \n",
    "plt.show() \n",
    " "
   ]
  },
  {
   "cell_type": "markdown",
   "id": "504b2600",
   "metadata": {},
   "source": [
    "## plotting the decision surface"
   ]
  },
  {
   "cell_type": "code",
   "execution_count": 21,
   "id": "c759073e",
   "metadata": {},
   "outputs": [],
   "source": [
    "from mlxtend.plotting  import plot_decision_regions "
   ]
  },
  {
   "cell_type": "code",
   "execution_count": 22,
   "id": "d0798056",
   "metadata": {},
   "outputs": [
    {
     "name": "stdout",
     "output_type": "stream",
     "text": [
      "9600/9600 [==============================] - 14s 1ms/step\n"
     ]
    },
    {
     "data": {
      "text/plain": [
       "<Axes: >"
      ]
     },
     "execution_count": 22,
     "metadata": {},
     "output_type": "execute_result"
    },
    {
     "data": {
      "image/png": "[encoded data removed]",
      "text/plain": [
       "<Figure size 640x480 with 1 Axes>"
      ]
     },
     "metadata": {},
     "output_type": "display_data"
    }
   ],
   "source": [
    "plot_decision_regions(X_train,y_train.values,clf=model) "
   ]
  },
  {
   "cell_type": "code",
   "execution_count": 23,
   "id": "ed753116",
   "metadata": {},
   "outputs": [
    {
     "name": "stdout",
     "output_type": "stream",
     "text": [
      "9600/9600 [==============================] - 14s 1ms/step\n"
     ]
    },
    {
     "data": {
      "text/plain": [
       "<Axes: >"
      ]
     },
     "execution_count": 23,
     "metadata": {},
     "output_type": "execute_result"
    },
    {
     "data": {
      "image/png": "[encoded data removed]",
      "text/plain": [
       "<Figure size 640x480 with 1 Axes>"
      ]
     },
     "metadata": {},
     "output_type": "display_data"
    }
   ],
   "source": [
    "#for test data \n",
    "plot_decision_regions(X_test,y_test.values,clf=model) "
   ]
  },
  {
   "cell_type": "code",
   "execution_count": null,
   "id": "157f0a24",
   "metadata": {},
   "outputs": [],
   "source": []
  }
 ],
 "metadata": {
  "kernelspec": {
   "display_name": "Python 3 (ipykernel)",
   "language": "python",
   "name": "python3"
  },
  "language_info": {
   "codemirror_mode": {
    "name": "ipython",
    "version": 3
   },
   "file_extension": ".py",
   "mimetype": "text/x-python",
   "name": "python",
   "nbconvert_exporter": "python",
   "pygments_lexer": "ipython3",
   "version": "3.10.9"
  }
 },
 "nbformat": 4,
 "nbformat_minor": 5
}
