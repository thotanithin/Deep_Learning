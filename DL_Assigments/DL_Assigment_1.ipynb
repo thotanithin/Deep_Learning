{
 "cells": [
  {
   "cell_type": "markdown",
   "id": "c5dc1dce",
   "metadata": {},
   "source": [
    "1. Create a MCP based neuron with the help of (Functions  or Class) Here your activation function should be `and`,`or` \n",
    "and your inputs can be in n-dimensional Your function should work for both `and` as well as for `or`.\n",
    "\n"
   ]
  },
  {
   "cell_type": "code",
   "execution_count": 14,
   "id": "59d305f1",
   "metadata": {},
   "outputs": [
    {
     "name": "stdout",
     "output_type": "stream",
     "text": [
      "enter the input1 : 1\n",
      "enter the input2 : 0\n",
      "This is from AND gate\n",
      "0\n",
      "This is from OR gate\n",
      "1\n"
     ]
    }
   ],
   "source": [
    "def and_gate(a,b):\n",
    "    add=a+b\n",
    "    print(\"This is from AND gate\")\n",
    "    if add>=2:\n",
    "        print(1)\n",
    "    else:\n",
    "        print(0)\n",
    "def or_gate(a,b):\n",
    "    add=a+b\n",
    "    print(\"This is from OR gate\")\n",
    "    if add>=1:\n",
    "        print(1)\n",
    "    else:       \n",
    "        print(0)\n",
    "a=int(input(\"enter the input1 : \"))\n",
    "b=int(input(\"enter the input2 : \"))\n",
    "and_gate(a,b)\n",
    "or_gate(a,b)"
   ]
  },
  {
   "cell_type": "code",
   "execution_count": null,
   "id": "16440e49",
   "metadata": {},
   "outputs": [],
   "source": []
  }
 ],
 "metadata": {
  "kernelspec": {
   "display_name": "Python 3 (ipykernel)",
   "language": "python",
   "name": "python3"
  },
  "language_info": {
   "codemirror_mode": {
    "name": "ipython",
    "version": 3
   },
   "file_extension": ".py",
   "mimetype": "text/x-python",
   "name": "python",
   "nbconvert_exporter": "python",
   "pygments_lexer": "ipython3",
   "version": "3.10.9"
  }
 },
 "nbformat": 4,
 "nbformat_minor": 5
}
