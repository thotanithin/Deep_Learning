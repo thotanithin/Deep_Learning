{
 "cells": [
  {
   "cell_type": "code",
   "execution_count": 1,
   "metadata": {
    "_cell_guid": "b1076dfc-b9ad-4769-8c92-a6c4dae69d19",
    "_uuid": "8f2839f25d086af736a60e9eeb907d3b93b6e0e5",
    "execution": {
     "iopub.execute_input": "2024-02-06T09:35:49.054384Z",
     "iopub.status.busy": "2024-02-06T09:35:49.054071Z",
     "iopub.status.idle": "2024-02-06T09:35:49.059602Z",
     "shell.execute_reply": "2024-02-06T09:35:49.058761Z",
     "shell.execute_reply.started": "2024-02-06T09:35:49.054355Z"
    }
   },
   "outputs": [],
   "source": [
    "# # This Python 3 environment comes with many helpful analytics libraries installed\n",
    "# # It is defined by the kaggle/python Docker image: https://github.com/kaggle/docker-python\n",
    "# # For example, here's several helpful packages to load\n",
    "\n",
    "# import numpy as np # linear algebra\n",
    "# import pandas as pd # data processing, CSV file I/O (e.g. pd.read_csv)\n",
    "\n",
    "# # Input data files are available in the read-only \"../input/\" directory\n",
    "# # For example, running this (by clicking run or pressing Shift+Enter) will list all files under the input directory\n",
    "\n",
    "# import os\n",
    "# for dirname, _, filenames in os.walk('/kaggle/input'):\n",
    "#     for filename in filenames:\n",
    "#         print(os.path.join(dirname, filename))\n",
    "\n",
    "# # You can write up to 20GB to the current directory (/kaggle/working/) that gets preserved as output when you create a version using \"Save & Run All\" \n",
    "# # You can also write temporary files to /kaggle/temp/, but they won't be saved outside of the current session"
   ]
  },
  {
   "cell_type": "code",
   "execution_count": 1,
   "metadata": {
    "execution": {
     "iopub.execute_input": "2024-02-06T16:16:58.790597Z",
     "iopub.status.busy": "2024-02-06T16:16:58.790250Z",
     "iopub.status.idle": "2024-02-06T16:16:58.796150Z",
     "shell.execute_reply": "2024-02-06T16:16:58.794943Z",
     "shell.execute_reply.started": "2024-02-06T16:16:58.790567Z"
    }
   },
   "outputs": [],
   "source": [
    "# pip install keras-tuner"
   ]
  },
  {
   "cell_type": "code",
   "execution_count": 2,
   "metadata": {
    "execution": {
     "iopub.execute_input": "2024-02-07T13:18:42.026736Z",
     "iopub.status.busy": "2024-02-07T13:18:42.026034Z",
     "iopub.status.idle": "2024-02-07T13:18:55.740729Z",
     "shell.execute_reply": "2024-02-07T13:18:55.739660Z",
     "shell.execute_reply.started": "2024-02-07T13:18:42.026689Z"
    }
   },
   "outputs": [
    {
     "name": "stderr",
     "output_type": "stream",
     "text": [
      "2024-02-07 13:18:43.779523: E external/local_xla/xla/stream_executor/cuda/cuda_dnn.cc:9261] Unable to register cuDNN factory: Attempting to register factory for plugin cuDNN when one has already been registered\n",
      "2024-02-07 13:18:43.779633: E external/local_xla/xla/stream_executor/cuda/cuda_fft.cc:607] Unable to register cuFFT factory: Attempting to register factory for plugin cuFFT when one has already been registered\n",
      "2024-02-07 13:18:43.911172: E external/local_xla/xla/stream_executor/cuda/cuda_blas.cc:1515] Unable to register cuBLAS factory: Attempting to register factory for plugin cuBLAS when one has already been registered\n"
     ]
    }
   ],
   "source": [
    "import tensorflow \n",
    "import keras \n",
    "from keras.layers import Dense,Flatten\n",
    "from keras.models import Model,Sequential \n",
    "from tensorflow.keras.preprocessing.image import ImageDataGenerator\n",
    "# from keras.preprocessing.image import ImageDataGenerator \n",
    "import matplotlib.pyplot as plt \n",
    "from keras.layers import Dense, Dropout, BatchNormalization, Input \n",
    "from keras.applications import ResNet50\n",
    "from keras.applications import VGG16,VGG19,EfficientNetB3,InceptionV3\n",
    "from keras.applications.efficientnet import EfficientNetB7\n",
    "from keras.callbacks import EarlyStopping,ModelCheckpoint,CSVLogger,TensorBoard \n",
    "import keras_tuner as kt \n",
    "from keras.models import load_model"
   ]
  },
  {
   "cell_type": "code",
   "execution_count": 3,
   "metadata": {
    "execution": {
     "iopub.execute_input": "2024-02-07T13:18:55.743272Z",
     "iopub.status.busy": "2024-02-07T13:18:55.742567Z",
     "iopub.status.idle": "2024-02-07T13:18:55.934168Z",
     "shell.execute_reply": "2024-02-07T13:18:55.933284Z",
     "shell.execute_reply.started": "2024-02-07T13:18:55.743221Z"
    }
   },
   "outputs": [
    {
     "data": {
      "text/plain": [
       "(256, 256, 3)"
      ]
     },
     "execution_count": 3,
     "metadata": {},
     "output_type": "execute_result"
    }
   ],
   "source": [
    "# Checking for the Shape of an image\n",
    "import cv2\n",
    "img=cv2.imread('/kaggle/input/tomatoleaf/tomato/train/Tomato___Bacterial_spot/00416648-be6e-4bd4-bc8d-82f43f8a7240___GCREC_Bact.Sp 3110.JPG')\n",
    "img.shape"
   ]
  },
  {
   "cell_type": "code",
   "execution_count": 4,
   "metadata": {
    "execution": {
     "iopub.execute_input": "2024-02-07T13:18:55.935811Z",
     "iopub.status.busy": "2024-02-07T13:18:55.935449Z",
     "iopub.status.idle": "2024-02-07T13:18:55.941571Z",
     "shell.execute_reply": "2024-02-07T13:18:55.940679Z",
     "shell.execute_reply.started": "2024-02-07T13:18:55.935778Z"
    }
   },
   "outputs": [],
   "source": [
    "train = ImageDataGenerator(rotation_range=90,horizontal_flip = True, vertical_flip =True, rescale = 1./255, shear_range = 0.2,\n",
    "                                   zoom_range = 0.2)\n",
    "valid = ImageDataGenerator(rescale = 1./255)\n",
    "\n",
    "test = ImageDataGenerator(rescale = 1./255)"
   ]
  },
  {
   "cell_type": "code",
   "execution_count": 5,
   "metadata": {
    "execution": {
     "iopub.execute_input": "2024-02-07T13:18:55.943748Z",
     "iopub.status.busy": "2024-02-07T13:18:55.943470Z",
     "iopub.status.idle": "2024-02-07T13:19:10.861518Z",
     "shell.execute_reply": "2024-02-07T13:19:10.860743Z",
     "shell.execute_reply.started": "2024-02-07T13:18:55.943725Z"
    }
   },
   "outputs": [
    {
     "name": "stdout",
     "output_type": "stream",
     "text": [
      "Found 10000 images belonging to 10 classes.\n",
      "Found 1000 images belonging to 10 classes.\n",
      "Found 50 images belonging to 10 classes.\n"
     ]
    }
   ],
   "source": [
    "training = train.flow_from_directory('/kaggle/input/tomatoleaf/tomato/train', target_size = (256,256),class_mode = 'sparse',batch_size=64)\n",
    "validation = valid.flow_from_directory('/kaggle/input/tomatoleaf/tomato/val',target_size = (256,256),class_mode = 'sparse',batch_size = 64)\n",
    "testing = test.flow_from_directory('/kaggle/input/tomato-leaf-disease/tomato_dataset/test', target_size = (256,256),class_mode = 'sparse',batch_size= 64)"
   ]
  },
  {
   "cell_type": "code",
   "execution_count": 6,
   "metadata": {
    "execution": {
     "iopub.execute_input": "2024-02-07T13:19:10.862798Z",
     "iopub.status.busy": "2024-02-07T13:19:10.862546Z",
     "iopub.status.idle": "2024-02-07T13:19:10.866803Z",
     "shell.execute_reply": "2024-02-07T13:19:10.865923Z",
     "shell.execute_reply.started": "2024-02-07T13:19:10.862777Z"
    }
   },
   "outputs": [],
   "source": [
    "# from keras.applications.efficientnet import EfficientNetB7\n",
    "# #CNN Architecture\n",
    "# efficient = EfficientNetB7(\n",
    "#     weights='imagenet',\n",
    "#     input_shape=(256,256,3),include_top=False)"
   ]
  },
  {
   "cell_type": "code",
   "execution_count": 7,
   "metadata": {
    "execution": {
     "iopub.execute_input": "2024-02-07T13:19:10.868107Z",
     "iopub.status.busy": "2024-02-07T13:19:10.867853Z",
     "iopub.status.idle": "2024-02-07T13:19:14.111157Z",
     "shell.execute_reply": "2024-02-07T13:19:14.110318Z",
     "shell.execute_reply.started": "2024-02-07T13:19:10.868085Z"
    }
   },
   "outputs": [
    {
     "name": "stdout",
     "output_type": "stream",
     "text": [
      "Downloading data from https://storage.googleapis.com/tensorflow/keras-applications/vgg16/vgg16_weights_tf_dim_ordering_tf_kernels_notop.h5\n",
      "58889256/58889256 [==============================] - 2s 0us/step\n"
     ]
    }
   ],
   "source": [
    "#CNN Architecture\n",
    "vgg = VGG16(\n",
    "    weights='imagenet',\n",
    "    input_shape=(256,256,3),include_top=False)"
   ]
  },
  {
   "cell_type": "code",
   "execution_count": 8,
   "metadata": {
    "execution": {
     "iopub.execute_input": "2024-02-07T13:19:14.112506Z",
     "iopub.status.busy": "2024-02-07T13:19:14.112205Z",
     "iopub.status.idle": "2024-02-07T13:19:14.116614Z",
     "shell.execute_reply": "2024-02-07T13:19:14.115722Z",
     "shell.execute_reply.started": "2024-02-07T13:19:14.112482Z"
    }
   },
   "outputs": [],
   "source": [
    "# #CNN Architecture\n",
    "# inception = InceptionV3(\n",
    "#     weights='imagenet',\n",
    "#     input_shape=(256,256,3),include_top=False)"
   ]
  },
  {
   "cell_type": "code",
   "execution_count": 9,
   "metadata": {
    "execution": {
     "iopub.execute_input": "2024-02-07T13:19:14.117815Z",
     "iopub.status.busy": "2024-02-07T13:19:14.117563Z",
     "iopub.status.idle": "2024-02-07T13:19:14.169060Z",
     "shell.execute_reply": "2024-02-07T13:19:14.168308Z",
     "shell.execute_reply.started": "2024-02-07T13:19:14.117793Z"
    }
   },
   "outputs": [
    {
     "name": "stdout",
     "output_type": "stream",
     "text": [
      "Model: \"vgg16\"\n",
      "_________________________________________________________________\n",
      " Layer (type)                Output Shape              Param #   \n",
      "=================================================================\n",
      " input_1 (InputLayer)        [(None, 256, 256, 3)]     0         \n",
      "                                                                 \n",
      " block1_conv1 (Conv2D)       (None, 256, 256, 64)      1792      \n",
      "                                                                 \n",
      " block1_conv2 (Conv2D)       (None, 256, 256, 64)      36928     \n",
      "                                                                 \n",
      " block1_pool (MaxPooling2D)  (None, 128, 128, 64)      0         \n",
      "                                                                 \n",
      " block2_conv1 (Conv2D)       (None, 128, 128, 128)     73856     \n",
      "                                                                 \n",
      " block2_conv2 (Conv2D)       (None, 128, 128, 128)     147584    \n",
      "                                                                 \n",
      " block2_pool (MaxPooling2D)  (None, 64, 64, 128)       0         \n",
      "                                                                 \n",
      " block3_conv1 (Conv2D)       (None, 64, 64, 256)       295168    \n",
      "                                                                 \n",
      " block3_conv2 (Conv2D)       (None, 64, 64, 256)       590080    \n",
      "                                                                 \n",
      " block3_conv3 (Conv2D)       (None, 64, 64, 256)       590080    \n",
      "                                                                 \n",
      " block3_pool (MaxPooling2D)  (None, 32, 32, 256)       0         \n",
      "                                                                 \n",
      " block4_conv1 (Conv2D)       (None, 32, 32, 512)       1180160   \n",
      "                                                                 \n",
      " block4_conv2 (Conv2D)       (None, 32, 32, 512)       2359808   \n",
      "                                                                 \n",
      " block4_conv3 (Conv2D)       (None, 32, 32, 512)       2359808   \n",
      "                                                                 \n",
      " block4_pool (MaxPooling2D)  (None, 16, 16, 512)       0         \n",
      "                                                                 \n",
      " block5_conv1 (Conv2D)       (None, 16, 16, 512)       2359808   \n",
      "                                                                 \n",
      " block5_conv2 (Conv2D)       (None, 16, 16, 512)       2359808   \n",
      "                                                                 \n",
      " block5_conv3 (Conv2D)       (None, 16, 16, 512)       2359808   \n",
      "                                                                 \n",
      " block5_pool (MaxPooling2D)  (None, 8, 8, 512)         0         \n",
      "                                                                 \n",
      "=================================================================\n",
      "Total params: 14714688 (56.13 MB)\n",
      "Trainable params: 14714688 (56.13 MB)\n",
      "Non-trainable params: 0 (0.00 Byte)\n",
      "_________________________________________________________________\n"
     ]
    }
   ],
   "source": [
    "vgg.summary()"
   ]
  },
  {
   "cell_type": "code",
   "execution_count": 10,
   "metadata": {
    "execution": {
     "iopub.execute_input": "2024-02-07T13:19:14.172487Z",
     "iopub.status.busy": "2024-02-07T13:19:14.172198Z",
     "iopub.status.idle": "2024-02-07T13:19:14.183351Z",
     "shell.execute_reply": "2024-02-07T13:19:14.182486Z",
     "shell.execute_reply.started": "2024-02-07T13:19:14.172463Z"
    }
   },
   "outputs": [
    {
     "name": "stdout",
     "output_type": "stream",
     "text": [
      "input_1 True\n",
      "block1_conv1 False\n",
      "block1_conv2 False\n",
      "block1_pool False\n",
      "block2_conv1 True\n",
      "block2_conv2 True\n",
      "block2_pool True\n",
      "block3_conv1 True\n",
      "block3_conv2 True\n",
      "block3_conv3 True\n",
      "block3_pool True\n",
      "block4_conv1 True\n",
      "block4_conv2 True\n",
      "block4_conv3 True\n",
      "block4_pool True\n",
      "block5_conv1 True\n",
      "block5_conv2 True\n",
      "block5_conv3 True\n",
      "block5_pool True\n"
     ]
    }
   ],
   "source": [
    "vgg.trainable=False\n",
    "for i in vgg.layers:\n",
    "    if i.name.startswith(\"block1_\"): #| i.name.startswith(\"block2\"):\n",
    "        i.trainable=False\n",
    "    else:\n",
    "        i.trainable=True\n",
    "for i in vgg.layers:\n",
    "    print(i.name, i.trainable)"
   ]
  },
  {
   "cell_type": "code",
   "execution_count": 11,
   "metadata": {
    "execution": {
     "iopub.execute_input": "2024-02-07T13:19:14.184767Z",
     "iopub.status.busy": "2024-02-07T13:19:14.184490Z",
     "iopub.status.idle": "2024-02-07T13:19:14.194235Z",
     "shell.execute_reply": "2024-02-07T13:19:14.193303Z",
     "shell.execute_reply.started": "2024-02-07T13:19:14.184740Z"
    }
   },
   "outputs": [],
   "source": [
    "def build_model(hp):\n",
    "    model = Sequential()\n",
    "    model.add(Input(shape=(256,256,3)))\n",
    "    \n",
    "    model.add(vgg)\n",
    "    model.add(Flatten())\n",
    "\n",
    "    # Tune the number of units in the dense layer\n",
    "    model.add(Dense(units=hp.Int(\"dense_units\", min_value=256, max_value=512),\n",
    "                    activation=hp.Choice(\"activation\",values=[\"relu\",\"tanh\",\"sigmoid\"]),\n",
    "                    kernel_initializer=hp.Choice(\"weight_init\",values=[\"glorot_uniform\",\"glorot_normal\",\"he_uniform\",\"he_normal\"])))\n",
    "     # Add BatchNormalization\n",
    "    model.add(BatchNormalization())\n",
    "\n",
    "    # Add Dropout\n",
    "    model.add(Dropout(rate=hp.Float(\"dropout_rate\", min_value=0.1, max_value=0.3, step=0.1)))\n",
    "    \n",
    "   # activation_choice=hp.Choice('activation',values=['tanh','softmax','relu'])\n",
    "    \n",
    "    model.add(Dense(1, activation=\"softmax\"))\n",
    "\n",
    "    optimizer_choice = hp.Choice('optimizer', values=['sgd', 'adam', 'rmsprop', 'adadelta'])\n",
    "    \n",
    "    loss_function = hp.Choice('loss',values=[\"CategoricalCrossentropy\"])\n",
    "\n",
    "    model.compile(loss=loss_function, optimizer=optimizer_choice, metrics=['accuracy'])\n",
    "    return model\n"
   ]
  },
  {
   "cell_type": "code",
   "execution_count": 12,
   "metadata": {
    "execution": {
     "iopub.execute_input": "2024-02-07T13:19:14.196001Z",
     "iopub.status.busy": "2024-02-07T13:19:14.195465Z",
     "iopub.status.idle": "2024-02-07T14:59:25.235681Z",
     "shell.execute_reply": "2024-02-07T14:59:25.234681Z",
     "shell.execute_reply.started": "2024-02-07T13:19:14.195970Z"
    }
   },
   "outputs": [
    {
     "name": "stdout",
     "output_type": "stream",
     "text": [
      "Trial 20 Complete [00h 04m 56s]\n",
      "val_accuracy: 0.10000000149011612\n",
      "\n",
      "Best val_accuracy So Far: 0.10000000149011612\n",
      "Total elapsed time: 01h 40m 11s\n"
     ]
    }
   ],
   "source": [
    "tuner = kt.RandomSearch(build_model, objective=\"val_accuracy\", max_trials=20,directory=r\"keras_models\")\n",
    "\n",
    "tuner.search(training, epochs=2, validation_data=validation)"
   ]
  },
  {
   "cell_type": "code",
   "execution_count": 13,
   "metadata": {
    "execution": {
     "iopub.execute_input": "2024-02-07T14:59:25.237481Z",
     "iopub.status.busy": "2024-02-07T14:59:25.237068Z",
     "iopub.status.idle": "2024-02-07T14:59:25.243208Z",
     "shell.execute_reply": "2024-02-07T14:59:25.242461Z",
     "shell.execute_reply.started": "2024-02-07T14:59:25.237442Z"
    }
   },
   "outputs": [
    {
     "name": "stdout",
     "output_type": "stream",
     "text": [
      "Search space summary\n",
      "Default search space size: 6\n",
      "dense_units (Int)\n",
      "{'default': None, 'conditions': [], 'min_value': 256, 'max_value': 512, 'step': 1, 'sampling': 'linear'}\n",
      "activation (Choice)\n",
      "{'default': 'relu', 'conditions': [], 'values': ['relu', 'tanh', 'sigmoid'], 'ordered': False}\n",
      "weight_init (Choice)\n",
      "{'default': 'glorot_uniform', 'conditions': [], 'values': ['glorot_uniform', 'glorot_normal', 'he_uniform', 'he_normal'], 'ordered': False}\n",
      "dropout_rate (Float)\n",
      "{'default': 0.1, 'conditions': [], 'min_value': 0.1, 'max_value': 0.3, 'step': 0.1, 'sampling': 'linear'}\n",
      "optimizer (Choice)\n",
      "{'default': 'sgd', 'conditions': [], 'values': ['sgd', 'adam', 'rmsprop', 'adadelta'], 'ordered': False}\n",
      "loss (Choice)\n",
      "{'default': 'CategoricalCrossentropy', 'conditions': [], 'values': ['CategoricalCrossentropy'], 'ordered': False}\n"
     ]
    }
   ],
   "source": [
    " tuner.search_space_summary()"
   ]
  },
  {
   "cell_type": "code",
   "execution_count": 14,
   "metadata": {
    "execution": {
     "iopub.execute_input": "2024-02-07T14:59:25.244875Z",
     "iopub.status.busy": "2024-02-07T14:59:25.244426Z",
     "iopub.status.idle": "2024-02-07T14:59:25.255247Z",
     "shell.execute_reply": "2024-02-07T14:59:25.254488Z",
     "shell.execute_reply.started": "2024-02-07T14:59:25.244836Z"
    }
   },
   "outputs": [
    {
     "name": "stdout",
     "output_type": "stream",
     "text": [
      "Results summary\n",
      "Results in keras_models/untitled_project\n",
      "Showing 10 best trials\n",
      "Objective(name=\"val_accuracy\", direction=\"max\")\n",
      "\n",
      "Trial 00 summary\n",
      "Hyperparameters:\n",
      "dense_units: 443\n",
      "activation: tanh\n",
      "weight_init: glorot_normal\n",
      "dropout_rate: 0.2\n",
      "optimizer: sgd\n",
      "loss: CategoricalCrossentropy\n",
      "Score: 0.10000000149011612\n",
      "\n",
      "Trial 01 summary\n",
      "Hyperparameters:\n",
      "dense_units: 259\n",
      "activation: relu\n",
      "weight_init: glorot_normal\n",
      "dropout_rate: 0.2\n",
      "optimizer: rmsprop\n",
      "loss: CategoricalCrossentropy\n",
      "Score: 0.10000000149011612\n",
      "\n",
      "Trial 02 summary\n",
      "Hyperparameters:\n",
      "dense_units: 390\n",
      "activation: tanh\n",
      "weight_init: he_uniform\n",
      "dropout_rate: 0.2\n",
      "optimizer: sgd\n",
      "loss: CategoricalCrossentropy\n",
      "Score: 0.10000000149011612\n",
      "\n",
      "Trial 03 summary\n",
      "Hyperparameters:\n",
      "dense_units: 420\n",
      "activation: relu\n",
      "weight_init: he_uniform\n",
      "dropout_rate: 0.2\n",
      "optimizer: rmsprop\n",
      "loss: CategoricalCrossentropy\n",
      "Score: 0.10000000149011612\n",
      "\n",
      "Trial 04 summary\n",
      "Hyperparameters:\n",
      "dense_units: 404\n",
      "activation: tanh\n",
      "weight_init: glorot_uniform\n",
      "dropout_rate: 0.2\n",
      "optimizer: sgd\n",
      "loss: CategoricalCrossentropy\n",
      "Score: 0.10000000149011612\n",
      "\n",
      "Trial 05 summary\n",
      "Hyperparameters:\n",
      "dense_units: 450\n",
      "activation: relu\n",
      "weight_init: glorot_normal\n",
      "dropout_rate: 0.1\n",
      "optimizer: adadelta\n",
      "loss: CategoricalCrossentropy\n",
      "Score: 0.10000000149011612\n",
      "\n",
      "Trial 06 summary\n",
      "Hyperparameters:\n",
      "dense_units: 462\n",
      "activation: relu\n",
      "weight_init: glorot_uniform\n",
      "dropout_rate: 0.2\n",
      "optimizer: adadelta\n",
      "loss: CategoricalCrossentropy\n",
      "Score: 0.10000000149011612\n",
      "\n",
      "Trial 07 summary\n",
      "Hyperparameters:\n",
      "dense_units: 282\n",
      "activation: relu\n",
      "weight_init: he_uniform\n",
      "dropout_rate: 0.1\n",
      "optimizer: adam\n",
      "loss: CategoricalCrossentropy\n",
      "Score: 0.10000000149011612\n",
      "\n",
      "Trial 08 summary\n",
      "Hyperparameters:\n",
      "dense_units: 495\n",
      "activation: relu\n",
      "weight_init: he_normal\n",
      "dropout_rate: 0.2\n",
      "optimizer: adadelta\n",
      "loss: CategoricalCrossentropy\n",
      "Score: 0.10000000149011612\n",
      "\n",
      "Trial 09 summary\n",
      "Hyperparameters:\n",
      "dense_units: 320\n",
      "activation: tanh\n",
      "weight_init: he_uniform\n",
      "dropout_rate: 0.2\n",
      "optimizer: rmsprop\n",
      "loss: CategoricalCrossentropy\n",
      "Score: 0.10000000149011612\n"
     ]
    }
   ],
   "source": [
    "tuner.results_summary()"
   ]
  },
  {
   "cell_type": "code",
   "execution_count": 15,
   "metadata": {
    "execution": {
     "iopub.execute_input": "2024-02-07T14:59:25.257125Z",
     "iopub.status.busy": "2024-02-07T14:59:25.256488Z",
     "iopub.status.idle": "2024-02-07T14:59:25.268748Z",
     "shell.execute_reply": "2024-02-07T14:59:25.267986Z",
     "shell.execute_reply.started": "2024-02-07T14:59:25.257082Z"
    }
   },
   "outputs": [
    {
     "data": {
      "text/plain": [
       "{'dense_units': 443,\n",
       " 'activation': 'tanh',\n",
       " 'weight_init': 'glorot_normal',\n",
       " 'dropout_rate': 0.2,\n",
       " 'optimizer': 'sgd',\n",
       " 'loss': 'CategoricalCrossentropy'}"
      ]
     },
     "execution_count": 15,
     "metadata": {},
     "output_type": "execute_result"
    }
   ],
   "source": [
    "tuner.get_best_hyperparameters()[0].values"
   ]
  },
  {
   "cell_type": "code",
   "execution_count": 16,
   "metadata": {
    "execution": {
     "iopub.execute_input": "2024-02-07T14:59:25.270480Z",
     "iopub.status.busy": "2024-02-07T14:59:25.270046Z",
     "iopub.status.idle": "2024-02-07T14:59:26.009600Z",
     "shell.execute_reply": "2024-02-07T14:59:26.008560Z",
     "shell.execute_reply.started": "2024-02-07T14:59:25.270453Z"
    }
   },
   "outputs": [
    {
     "name": "stdout",
     "output_type": "stream",
     "text": [
      "Model: \"sequential\"\n",
      "_________________________________________________________________\n",
      " Layer (type)                Output Shape              Param #   \n",
      "=================================================================\n",
      " vgg16 (Functional)          (None, 8, 8, 512)         14714688  \n",
      "                                                                 \n",
      " flatten (Flatten)           (None, 32768)             0         \n",
      "                                                                 \n",
      " dense (Dense)               (None, 443)               14516667  \n",
      "                                                                 \n",
      " batch_normalization (Batch  (None, 443)               1772      \n",
      " Normalization)                                                  \n",
      "                                                                 \n",
      " dropout (Dropout)           (None, 443)               0         \n",
      "                                                                 \n",
      " dense_1 (Dense)             (None, 1)                 444       \n",
      "                                                                 \n",
      "=================================================================\n",
      "Total params: 29233571 (111.52 MB)\n",
      "Trainable params: 14517997 (55.38 MB)\n",
      "Non-trainable params: 14715574 (56.14 MB)\n",
      "_________________________________________________________________\n"
     ]
    }
   ],
   "source": [
    "fmodel = tuner.get_best_models(num_models = 1)[0]\n",
    "fmodel.summary()"
   ]
  },
  {
   "cell_type": "code",
   "execution_count": 17,
   "metadata": {
    "execution": {
     "iopub.execute_input": "2024-02-07T14:59:26.011581Z",
     "iopub.status.busy": "2024-02-07T14:59:26.011155Z",
     "iopub.status.idle": "2024-02-07T14:59:26.016845Z",
     "shell.execute_reply": "2024-02-07T14:59:26.015785Z",
     "shell.execute_reply.started": "2024-02-07T14:59:26.011551Z"
    }
   },
   "outputs": [],
   "source": [
    "es=EarlyStopping(monitor=\"val_loss\",min_delta=0.1,patience=2,start_from_epoch=4,verbose=1) \n",
    "\n",
    "mc=ModelCheckpoint(r\"model_checkpoint\\model{epoch}.h5\",monitor='val_loss',verbose=1,save_best_only=True)"
   ]
  },
  {
   "cell_type": "code",
   "execution_count": 18,
   "metadata": {
    "execution": {
     "iopub.execute_input": "2024-02-07T14:59:26.020782Z",
     "iopub.status.busy": "2024-02-07T14:59:26.020468Z",
     "iopub.status.idle": "2024-02-07T14:59:26.027574Z",
     "shell.execute_reply": "2024-02-07T14:59:26.026599Z",
     "shell.execute_reply.started": "2024-02-07T14:59:26.020756Z"
    }
   },
   "outputs": [],
   "source": [
    "csv=CSVLogger(r\"log.csv\")"
   ]
  },
  {
   "cell_type": "code",
   "execution_count": 25,
   "metadata": {
    "execution": {
     "iopub.execute_input": "2024-02-07T15:08:43.323408Z",
     "iopub.status.busy": "2024-02-07T15:08:43.322687Z",
     "iopub.status.idle": "2024-02-07T15:11:19.410004Z",
     "shell.execute_reply": "2024-02-07T15:11:19.409094Z",
     "shell.execute_reply.started": "2024-02-07T15:08:43.323376Z"
    }
   },
   "outputs": [
    {
     "name": "stderr",
     "output_type": "stream",
     "text": [
      "/tmp/ipykernel_34/2562181956.py:1: UserWarning: `Model.fit_generator` is deprecated and will be removed in a future version. Please use `Model.fit`, which supports generators.\n",
      "  his = fmodel.fit_generator(training,steps_per_epoch = 18345 //64, epochs = 5,validation_data = validation , validation_steps = 4585//64 , callbacks = [ mc, csv])\n"
     ]
    },
    {
     "name": "stdout",
     "output_type": "stream",
     "text": [
      "Epoch 1/5\n",
      "157/286 [===============>..............] - ETA: 2:03 - loss: 0.0000e+00 - accuracy: 0.1000\n",
      "Epoch 1: val_loss did not improve from 0.00000\n",
      "286/286 [==============================] - 155s 541ms/step - loss: 0.0000e+00 - accuracy: 0.1000 - val_loss: 0.0000e+00 - val_accuracy: 0.1000\n"
     ]
    }
   ],
   "source": [
    "his = fmodel.fit_generator(training,steps_per_epoch = 18345 //64, epochs = 5,validation_data = validation , validation_steps = 4585//64 , callbacks = [ mc, csv])"
   ]
  },
  {
   "cell_type": "code",
   "execution_count": 26,
   "metadata": {
    "execution": {
     "iopub.execute_input": "2024-02-07T15:11:19.411949Z",
     "iopub.status.busy": "2024-02-07T15:11:19.411656Z",
     "iopub.status.idle": "2024-02-07T15:11:19.601673Z",
     "shell.execute_reply": "2024-02-07T15:11:19.600744Z",
     "shell.execute_reply.started": "2024-02-07T15:11:19.411922Z"
    }
   },
   "outputs": [
    {
     "data": {
      "text/plain": [
       "<matplotlib.legend.Legend at 0x7d7bd0573580>"
      ]
     },
     "execution_count": 26,
     "metadata": {},
     "output_type": "execute_result"
    },
    {
     "data": {
      "image/png": "[encoded data removed]",
      "text/plain": [
       "<Figure size 640x480 with 1 Axes>"
      ]
     },
     "metadata": {},
     "output_type": "display_data"
    }
   ],
   "source": [
    "plt.plot(range(1,2),his.history[\"loss\"],label=\"train_loss\")\n",
    "plt.plot(range(1,2),his.history[\"val_loss\"],label=\"val_loss\")\n",
    "plt.legend()"
   ]
  },
  {
   "cell_type": "code",
   "execution_count": 27,
   "metadata": {
    "execution": {
     "iopub.execute_input": "2024-02-07T15:11:19.603336Z",
     "iopub.status.busy": "2024-02-07T15:11:19.602968Z",
     "iopub.status.idle": "2024-02-07T15:11:20.760153Z",
     "shell.execute_reply": "2024-02-07T15:11:20.759378Z",
     "shell.execute_reply.started": "2024-02-07T15:11:19.603301Z"
    }
   },
   "outputs": [
    {
     "name": "stderr",
     "output_type": "stream",
     "text": [
      "/opt/conda/lib/python3.10/site-packages/keras/src/engine/training.py:3103: UserWarning: You are saving your model as an HDF5 file via `model.save()`. This file format is considered legacy. We recommend using instead the native Keras format, e.g. `model.save('my_model.keras')`.\n",
      "  saving_api.save_model(\n"
     ]
    }
   ],
   "source": [
    "fmodel.save('best_model',save_format = 'h5')\n",
    "\n",
    "# Read model\n",
    "m1 = load_model(r'/kaggle/working/best_model') "
   ]
  },
  {
   "cell_type": "code",
   "execution_count": 28,
   "metadata": {
    "execution": {
     "iopub.execute_input": "2024-02-07T15:11:20.762845Z",
     "iopub.status.busy": "2024-02-07T15:11:20.762548Z",
     "iopub.status.idle": "2024-02-07T15:11:21.370028Z",
     "shell.execute_reply": "2024-02-07T15:11:21.368955Z",
     "shell.execute_reply.started": "2024-02-07T15:11:20.762819Z"
    }
   },
   "outputs": [
    {
     "name": "stdout",
     "output_type": "stream",
     "text": [
      "1/1 [==============================] - 0s 254ms/step\n"
     ]
    }
   ],
   "source": [
    "prediction = fmodel.predict(testing)"
   ]
  },
  {
   "cell_type": "code",
   "execution_count": 29,
   "metadata": {
    "execution": {
     "iopub.execute_input": "2024-02-07T15:11:21.372466Z",
     "iopub.status.busy": "2024-02-07T15:11:21.371614Z",
     "iopub.status.idle": "2024-02-07T15:11:21.377660Z",
     "shell.execute_reply": "2024-02-07T15:11:21.376746Z",
     "shell.execute_reply.started": "2024-02-07T15:11:21.372427Z"
    }
   },
   "outputs": [],
   "source": [
    "import numpy as np \n",
    "predicted=np.where(prediction>0.5,1,0)"
   ]
  },
  {
   "cell_type": "code",
   "execution_count": 30,
   "metadata": {
    "execution": {
     "iopub.execute_input": "2024-02-07T15:11:21.379115Z",
     "iopub.status.busy": "2024-02-07T15:11:21.378832Z",
     "iopub.status.idle": "2024-02-07T15:11:21.823422Z",
     "shell.execute_reply": "2024-02-07T15:11:21.822499Z",
     "shell.execute_reply.started": "2024-02-07T15:11:21.379091Z"
    }
   },
   "outputs": [
    {
     "name": "stdout",
     "output_type": "stream",
     "text": [
      "accuracy_score :  0.1\n"
     ]
    },
    {
     "data": {
      "image/png": "[encoded data removed]",
      "text/plain": [
       "<Figure size 640x480 with 2 Axes>"
      ]
     },
     "metadata": {},
     "output_type": "display_data"
    }
   ],
   "source": [
    "from sklearn.metrics import accuracy_score,ConfusionMatrixDisplay,confusion_matrix\n",
    "print(\"accuracy_score : \",accuracy_score(testing.labels,predicted)) \n",
    "cm=confusion_matrix(testing.labels,predicted)\n",
    "va=ConfusionMatrixDisplay(cm)\n",
    "va.plot() \n",
    "plt.show() "
   ]
  },
  {
   "cell_type": "code",
   "execution_count": null,
   "metadata": {},
   "outputs": [],
   "source": []
  },
  {
   "cell_type": "code",
   "execution_count": null,
   "metadata": {},
   "outputs": [],
   "source": []
  },
  {
   "cell_type": "code",
   "execution_count": null,
   "metadata": {},
   "outputs": [],
   "source": []
  }
 ],
 "metadata": {
  "kaggle": {
   "accelerator": "gpu",
   "dataSources": [
    {
     "datasetId": 619181,
     "sourceId": 1105687,
     "sourceType": "datasetVersion"
    },
    {
     "datasetId": 3001077,
     "sourceId": 5164100,
     "sourceType": "datasetVersion"
    }
   ],
   "dockerImageVersionId": 30648,
   "isGpuEnabled": true,
   "isInternetEnabled": true,
   "language": "python",
   "sourceType": "notebook"
  },
  "kernelspec": {
   "display_name": "Python 3 (ipykernel)",
   "language": "python",
   "name": "python3"
  },
  "language_info": {
   "codemirror_mode": {
    "name": "ipython",
    "version": 3
   },
   "file_extension": ".py",
   "mimetype": "text/x-python",
   "name": "python",
   "nbconvert_exporter": "python",
   "pygments_lexer": "ipython3",
   "version": "3.10.9"
  }
 },
 "nbformat": 4,
 "nbformat_minor": 4
}
